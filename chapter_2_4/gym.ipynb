{
 "cells": [
  {
   "cell_type": "code",
   "execution_count": 72,
   "id": "7a4d563e",
   "metadata": {},
   "outputs": [],
   "source": [
    "import pandas as pd\n",
    "import gym\n",
    "import random\n",
    "from typing import List\n",
    "\n",
    "\n",
    "\n",
    "class Environment:\n",
    "    def __init__(self):\n",
    "        self.steps_left = 10\n",
    "\n",
    "    def get_observation(self)->List[float]:\n",
    "        return [0.0, 0.0, 0.0]\n",
    "    \n",
    "    def get_actions(self)-> List[int]:\n",
    "        return [0, 1]\n",
    "    \n",
    "    def is_done(self)->bool:\n",
    "        return self.steps_left == 0\n",
    "    \n",
    "    def action(self, action: int)-> float:\n",
    "        if self.is_done():\n",
    "            raise Exception(\"Spiel beendet\")\n",
    "        self.steps_left -= 1\n",
    "        return random.random()\n",
    "    \n",
    "\n",
    "class Agent:\n",
    "    def __init__(self):\n",
    "        self.total_reward = 0.0\n",
    "\n",
    "    def step(self, env: Environment):\n",
    "        current_obs = env.get_observation()\n",
    "        actions = env.get_actions()\n",
    "        reward = env.action(random.choice(actions))\n",
    "        print(\"reward\",reward)\n",
    "        self.total_reward += reward\n",
    "\n"
   ]
  },
  {
   "cell_type": "code",
   "execution_count": null,
   "id": "65b12217",
   "metadata": {},
   "outputs": [
    {
     "name": "stdout",
     "output_type": "stream",
     "text": [
      "Belohnung insgesamt: %4f 0.0\n"
     ]
    }
   ],
   "source": [
    "if __name__ == \"__main__\":\n",
    "    env = Environment()\n",
    "    agent = Agent()\n",
    "\n",
    "    while env.is_done:\n",
    "        agent.step(env)\n",
    "        print(\"total\", agent.total_reward)\n",
    "\n",
    "    print(\"Belohnung insgesamt: %4f\",  agent.total_reward)"
   ]
  },
  {
   "cell_type": "code",
   "execution_count": null,
   "id": "b4f6a898",
   "metadata": {},
   "outputs": [],
   "source": []
  },
  {
   "cell_type": "code",
   "execution_count": null,
   "id": "6ab0ba1a",
   "metadata": {},
   "outputs": [],
   "source": []
  }
 ],
 "metadata": {
  "kernelspec": {
   "display_name": "venv",
   "language": "python",
   "name": "python3"
  },
  "language_info": {
   "codemirror_mode": {
    "name": "ipython",
    "version": 3
   },
   "file_extension": ".py",
   "mimetype": "text/x-python",
   "name": "python",
   "nbconvert_exporter": "python",
   "pygments_lexer": "ipython3",
   "version": "3.12.3"
  }
 },
 "nbformat": 4,
 "nbformat_minor": 5
}
